{
 "cells": [
  {
   "cell_type": "markdown",
   "metadata": {},
   "source": [
    "1. Find and print count of each kind of flower (separated by space)?\n",
    "2. Note: Get the dataset from here\n",
    "3. Print the count as Integer Value."
   ]
  },
  {
   "cell_type": "code",
   "execution_count": 5,
   "metadata": {},
   "outputs": [
    {
     "name": "stdout",
     "output_type": "stream",
     "text": [
      "50 50 50\n"
     ]
    }
   ],
   "source": [
    "import pandas as pd   \n",
    "df=pd.read_csv('https://gist.githubusercontent.com/netj/8836201/raw/6f9306ad21398ea43cba4f7d537619d0e07d5ae3/iris.csv')\n",
    "print(int(df.variety.value_counts()['Setosa']),int(df.variety.value_counts()['Versicolor']),int(df.variety.value_counts()['Virginica']))\n",
    "del df"
   ]
  },
  {
   "cell_type": "markdown",
   "metadata": {},
   "source": [
    "1. Find the data of flower “Iris-virginica” type where petal-length > 1.5?\n",
    "Note: Get the dataset from here\n",
    "2. Print the all the feature values."
   ]
  },
  {
   "cell_type": "code",
   "execution_count": 6,
   "metadata": {},
   "outputs": [
    {
     "name": "stdout",
     "output_type": "stream",
     "text": [
      "6.3 3.3 6.0 2.5 Iris-virginica\n",
      "5.8 2.7 5.1 1.9 Iris-virginica\n",
      "7.1 3.0 5.9 2.1 Iris-virginica\n",
      "6.3 2.9 5.6 1.8 Iris-virginica\n",
      "6.5 3.0 5.8 2.2 Iris-virginica\n",
      "7.6 3.0 6.6 2.1 Iris-virginica\n",
      "4.9 2.5 4.5 1.7 Iris-virginica\n",
      "7.3 2.9 6.3 1.8 Iris-virginica\n",
      "6.7 2.5 5.8 1.8 Iris-virginica\n",
      "7.2 3.6 6.1 2.5 Iris-virginica\n",
      "6.5 3.2 5.1 2.0 Iris-virginica\n",
      "6.4 2.7 5.3 1.9 Iris-virginica\n",
      "6.8 3.0 5.5 2.1 Iris-virginica\n",
      "5.7 2.5 5.0 2.0 Iris-virginica\n",
      "5.8 2.8 5.1 2.4 Iris-virginica\n",
      "6.4 3.2 5.3 2.3 Iris-virginica\n",
      "6.5 3.0 5.5 1.8 Iris-virginica\n",
      "7.7 3.8 6.7 2.2 Iris-virginica\n",
      "7.7 2.6 6.9 2.3 Iris-virginica\n",
      "6.0 2.2 5.0 1.5 Iris-virginica\n",
      "6.9 3.2 5.7 2.3 Iris-virginica\n",
      "5.6 2.8 4.9 2.0 Iris-virginica\n",
      "7.7 2.8 6.7 2.0 Iris-virginica\n",
      "6.3 2.7 4.9 1.8 Iris-virginica\n",
      "6.7 3.3 5.7 2.1 Iris-virginica\n",
      "7.2 3.2 6.0 1.8 Iris-virginica\n",
      "6.2 2.8 4.8 1.8 Iris-virginica\n",
      "6.1 3.0 4.9 1.8 Iris-virginica\n",
      "6.4 2.8 5.6 2.1 Iris-virginica\n",
      "7.2 3.0 5.8 1.6 Iris-virginica\n",
      "7.4 2.8 6.1 1.9 Iris-virginica\n",
      "7.9 3.8 6.4 2.0 Iris-virginica\n",
      "6.4 2.8 5.6 2.2 Iris-virginica\n",
      "6.3 2.8 5.1 1.5 Iris-virginica\n",
      "6.1 2.6 5.6 1.4 Iris-virginica\n",
      "7.7 3.0 6.1 2.3 Iris-virginica\n",
      "6.3 3.4 5.6 2.4 Iris-virginica\n",
      "6.4 3.1 5.5 1.8 Iris-virginica\n",
      "6.0 3.0 4.8 1.8 Iris-virginica\n",
      "6.9 3.1 5.4 2.1 Iris-virginica\n",
      "6.7 3.1 5.6 2.4 Iris-virginica\n",
      "6.9 3.1 5.1 2.3 Iris-virginica\n",
      "5.8 2.7 5.1 1.9 Iris-virginica\n",
      "6.8 3.2 5.9 2.3 Iris-virginica\n",
      "6.7 3.3 5.7 2.5 Iris-virginica\n",
      "6.7 3.0 5.2 2.3 Iris-virginica\n",
      "6.3 2.5 5.0 1.9 Iris-virginica\n",
      "6.5 3.0 5.2 2.0 Iris-virginica\n",
      "6.2 3.4 5.4 2.3 Iris-virginica\n",
      "5.9 3.0 5.1 1.8 Iris-virginica\n"
     ]
    }
   ],
   "source": [
    "import pandas as pd   \n",
    "df=pd.read_csv('https://files.codingninjas.in/iris-8116.csv?_ga=2.147866740.234039453.1659624921-456271772.1655977586')\n",
    "\n",
    "df = df[(df.variety == 'Iris-virginica') & (df['petal.length']>1.5)]\n",
    "for i in df.values:\n",
    "    print(i[0],i[1],i[2],i[3],i[4])\n",
    "del df"
   ]
  },
  {
   "cell_type": "markdown",
   "metadata": {},
   "source": [
    "1. Find and print the minimum, maximum and average value of the feature for each kind of flower ?\n",
    "2. Note: Get the dataset from here\n",
    "3. Print the value with two decimal places.\n",
    "4. Note: Order for flower is Iris-setosa, Iris-versicolor and Iris-virginica.\n",
    "5. minSL minSW minPL minPW Iris-setosa"
   ]
  },
  {
   "cell_type": "code",
   "execution_count": 7,
   "metadata": {},
   "outputs": [
    {
     "name": "stdout",
     "output_type": "stream",
     "text": [
      "4.30 2.30 1.00 0.10 Iris-setosa\n",
      "5.80 4.40 1.90 0.60 Iris-setosa\n",
      "5.01 3.42 1.46 0.24 Iris-setosa\n",
      "4.90 2.00 3.00 1.00 Iris-versicolor\n",
      "7.00 3.40 5.10 1.80 Iris-versicolor\n",
      "5.94 2.77 4.26 1.33 Iris-versicolor\n",
      "4.90 2.20 4.50 1.40 Iris-virginica\n",
      "7.90 3.80 6.90 2.50 Iris-virginica\n",
      "6.59 2.97 5.55 2.03 Iris-virginica\n"
     ]
    }
   ],
   "source": [
    "import pandas as pd   \n",
    "data_file=pd.read_csv('https://archive.ics.uci.edu/ml/machine-learning-databases/iris/iris.data',header=None)\n",
    "data_file.columns = ['sl', 'sw', 'pl', 'pw', 'flower_type']\n",
    "\n",
    "for n in ['Iris-setosa','Iris-versicolor','Iris-virginica']:\n",
    "    file=data_file[data_file.flower_type==n]\n",
    "    data=file.describe()\n",
    "    data.loc['avg']=[sum(file.sl)/50.0,sum(file.sw)/50.0,sum(file.pl)/50.0,sum(file.pw)/50.0]\n",
    "    \n",
    "    for i in ['min','max','avg']:\n",
    "        for j in ['sl','sw','pl','pw']:\n",
    "            print('%.2f'%data[j][i],end=\" \")\n",
    "        print(n)\n",
    "del data_file"
   ]
  },
  {
   "cell_type": "markdown",
   "metadata": {},
   "source": [
    "1. The Most Dangerous city in Jammu and Kashmir and the terrorist group which is most active in that city?\n",
    "2. Print count of number of attacks in that city as integer value.\n",
    "3. Note: Ignoring the Unknown Terrorist Group.Here Dangerous related with the number of terrorist attacks."
   ]
  },
  {
   "cell_type": "code",
   "execution_count": 8,
   "metadata": {},
   "outputs": [
    {
     "name": "stdout",
     "output_type": "stream",
     "text": [
      "Srinagar 657 Muslim Separatists\n"
     ]
    }
   ],
   "source": [
    "import pandas as pd   \n",
    "df=pd.read_csv(\"terrorismData.csv\")\n",
    "df=df[df.State=='Jammu and Kashmir']\n",
    "df=df[df.City==df.City.describe().top]\n",
    "count=df.City.count()\n",
    "df=df[df.Group!='Unknown']\n",
    "city=df.City.describe().top\n",
    "group=df.Group.describe().top\n",
    "print(city, count, group)\n",
    "del df\n"
   ]
  },
  {
   "cell_type": "markdown",
   "metadata": {},
   "source": [
    "* There was formation of new government in India on 26 May 2014. So current government's span is from 26th May 2014 to current. Find out two things from this period-\n",
    "1. Total number of attacks done in this period in India. Find this count as integer.\n",
    "2. Which Terrorist group was most active in this period in India. Most active means, group which has done maximum number of attacks. \n",
    "3. Ignore the Unknown group. "
   ]
  },
  {
   "cell_type": "code",
   "execution_count": 9,
   "metadata": {},
   "outputs": [
    {
     "name": "stdout",
     "output_type": "stream",
     "text": [
      "3336 Maoists\n"
     ]
    }
   ],
   "source": [
    "import pandas as pd   \n",
    "df=pd.read_csv(\"terrorismData.csv\")\n",
    "df=df[(df['Year']>2014)|((df['Year']==2014)&(df['Month']>5))|((df['Year']==2014)&(df['Month']==5)&(df['Day']>=26))]\n",
    "df=df[df.Country=='India']\n",
    "count=int(df.Country.count())\n",
    "df=df[df.Group!='Unknown']\n",
    "print(count,df.Group.describe().top)\n",
    "del df"
   ]
  },
  {
   "cell_type": "markdown",
   "metadata": {},
   "source": [
    "1. Find the frequency of the Casualty in Red Corridor states and in Jammu and Kashmir ?Here Frequency is (Total Casualty/Total Number of a year)\n",
    "2. Print frequency as integer value.\n",
    "3. Note:Red Corridor state includes Jharkhand, Odisha, Andhra Pradesh, and Chhattisgarh. Here Casualty=Killed +Wounded.Don't fill the nan value present in Killed and Wounded feature."
   ]
  },
  {
   "cell_type": "code",
   "execution_count": 10,
   "metadata": {},
   "outputs": [
    {
     "name": "stdout",
     "output_type": "stream",
     "text": [
      "115 261\n"
     ]
    }
   ],
   "source": [
    "import pandas as pd  \n",
    "import numpy as np \n",
    "df=pd.read_csv(\"terrorismData.csv\")\n",
    "year=len(df.Year.unique())\n",
    "#df.Killed.fillna(0,inplace=True)\n",
    "#df.Wounded.fillna(0,inplace=True)\n",
    "df['Caus']=df['Killed']+df['Wounded']\n",
    "red_corridor=df[(df.State=='Jharkhand')|(df.State=='Odisha')|(df.State=='Andhra Pradesh')|(df.State=='Chhattisgarh')]\n",
    "red_sum=red_corridor.Caus.sum()\n",
    "jam=df[(df.State=='Jammu and Kashmir')]\n",
    "jam_sum=jam.Caus.sum()\n",
    "\n",
    "print(int(red_sum//year),int(jam_sum//year))\n",
    "del df"
   ]
  },
  {
   "cell_type": "markdown",
   "metadata": {},
   "source": [
    "1. Most Deadliest attack in a history of HumanKind?\n",
    "2. Print count of Killed people as integer value.\n",
    "3. Note: Here Deadliest attack means, in which the most number of people killed."
   ]
  },
  {
   "cell_type": "code",
   "execution_count": 11,
   "metadata": {},
   "outputs": [
    {
     "name": "stdout",
     "output_type": "stream",
     "text": [
      "1570 Iraq Islamic State of Iraq and the Levant (ISIL)\n"
     ]
    }
   ],
   "source": [
    "import pandas as pd \n",
    "import numpy as np\n",
    "df=pd.read_csv(\"terrorismData.csv\")\n",
    "df=df[df.Killed==df.Killed.max()]\n",
    "killed=df.Killed.iloc[0]\n",
    "country=df.Country.iloc[0]\n",
    "group=df.Group.iloc[0]\n",
    "print(int(killed), country, group)"
   ]
  },
  {
   "cell_type": "markdown",
   "metadata": {},
   "source": [
    "1. Find out the Country with Highest Number of Terror Attack and in which year the most number of terrorist attack happened in that country ?\n",
    "2. Print count of terror attacks as integer value."
   ]
  },
  {
   "cell_type": "code",
   "execution_count": 12,
   "metadata": {},
   "outputs": [
    {
     "name": "stdout",
     "output_type": "stream",
     "text": [
      "Iraq 24636 2014\n"
     ]
    },
    {
     "name": "stderr",
     "output_type": "stream",
     "text": [
      "C:\\Users\\kanad\\AppData\\Local\\Temp\\ipykernel_13972\\3543955368.py:7: SettingWithCopyWarning: \n",
      "A value is trying to be set on a copy of a slice from a DataFrame.\n",
      "Try using .loc[row_indexer,col_indexer] = value instead\n",
      "\n",
      "See the caveats in the documentation: https://pandas.pydata.org/pandas-docs/stable/user_guide/indexing.html#returning-a-view-versus-a-copy\n",
      "  newdf['Year']= newdf.Year.astype(str) # Converts all data to str type\n"
     ]
    }
   ],
   "source": [
    "import pandas as pd\n",
    "import numpy as np\n",
    "df=pd.read_csv(\"terrorismData.csv\")\n",
    "country=df.Country.describe().top\n",
    "newdf=df[df.Country==country]\n",
    "count=newdf.shape[0]\n",
    "newdf['Year']= newdf.Year.astype(str) # Converts all data to str type\n",
    "print(country,count,newdf.Year.describe().top)\n"
   ]
  }
 ],
 "metadata": {
  "kernelspec": {
   "display_name": "Python 3.9.13 64-bit",
   "language": "python",
   "name": "python3"
  },
  "language_info": {
   "codemirror_mode": {
    "name": "ipython",
    "version": 3
   },
   "file_extension": ".py",
   "mimetype": "text/x-python",
   "name": "python",
   "nbconvert_exporter": "python",
   "pygments_lexer": "ipython3",
   "version": "3.9.13"
  },
  "orig_nbformat": 4,
  "vscode": {
   "interpreter": {
    "hash": "b9f7f17e2dfc0342ad8fd0225d136ef60900e874e384a8df6732177035c72636"
   }
  }
 },
 "nbformat": 4,
 "nbformat_minor": 2
}
