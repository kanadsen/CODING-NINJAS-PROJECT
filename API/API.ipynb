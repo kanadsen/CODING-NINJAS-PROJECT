{
 "cells": [
  {
   "cell_type": "markdown",
   "metadata": {},
   "source": [
    "1. Print the content-type received after making a get request to url = https://codingninjas.in/api/v3/events\n",
    "2. Note : content-type can be found in header information of response object."
   ]
  },
  {
   "cell_type": "code",
   "execution_count": 1,
   "metadata": {},
   "outputs": [
    {
     "name": "stdout",
     "output_type": "stream",
     "text": [
      "application/json\n"
     ]
    }
   ],
   "source": [
    "import requests\n",
    "res = requests.get('https://codingninjas.in/api/v3/events')\n",
    "print(res.headers['Content-Type'])"
   ]
  },
  {
   "cell_type": "markdown",
   "metadata": {},
   "source": [
    "1. Print all sub-breeds of hound by making a get request to given URL.\n",
    "2. URL : https://dog.ceo/api/breeds/list/all\n",
    "3. Print name of sub-breeds in different lines.\n"
   ]
  },
  {
   "cell_type": "code",
   "execution_count": 24,
   "metadata": {},
   "outputs": [
    {
     "name": "stdout",
     "output_type": "stream",
     "text": [
      "afghan\n",
      "basset\n",
      "blood\n",
      "english\n",
      "ibizan\n",
      "plott\n",
      "walker\n"
     ]
    }
   ],
   "source": [
    "import requests\n",
    "res = requests.get('https://dog.ceo/api/breeds/list/all')\n",
    "data=res.json()\n",
    "breed=data['message']\n",
    "for key,val in data['message'].items():\n",
    "   if key=='hound':\n",
    "    for i in val:\n",
    "       print(i)\n",
    "\n"
   ]
  },
  {
   "cell_type": "markdown",
   "metadata": {},
   "source": [
    "1. Print the count of total sub-breeds of poodle from this URL : https://dog.ceo/api/breeds/list/all/."
   ]
  },
  {
   "cell_type": "code",
   "execution_count": 25,
   "metadata": {},
   "outputs": [
    {
     "name": "stdout",
     "output_type": "stream",
     "text": [
      "4\n"
     ]
    }
   ],
   "source": [
    "import requests\n",
    "res = requests.get('https://dog.ceo/api/breeds/list/all/.')\n",
    "data=res.json()['message']['poodle']\n",
    "print(len(data))"
   ]
  },
  {
   "cell_type": "markdown",
   "metadata": {},
   "source": [
    "1. Print name of all online courses offered by Coding Ninjas.  You can fetch the data using their open API :https://api.codingninjas.com/api/v3/courses ."
   ]
  },
  {
   "cell_type": "code",
   "execution_count": 26,
   "metadata": {},
   "outputs": [
    {
     "name": "stdout",
     "output_type": "stream",
     "text": [
      "Machine Learning & Deep Learning Course\n",
      "System Design Course\n",
      "C++ Foundation with Data Structures\n",
      "Premium Machine Learning Course\n",
      "Premium Data structures and Algorithms [C++/Java/Python]\n",
      "Advanced  Front-End Web Development with React\n",
      "Ninja Competitive Programmer Track\n",
      "Premium Data Science Course\n",
      "Premium Competitive Programming Course\n",
      "Premium Full Stack Web Development\n",
      "Premium Android App Development\n",
      "JAVA Foundation with Data Structures\n",
      "Ninja Android Developer Career Track \n",
      "Full Stack Web Development\n",
      "Grokking the Operating Systems Interview\n",
      "Data Science & Machine Learning Complete\n",
      "Ninja  Web Developer Career Track - NodeJS & ReactJs\n",
      "Interview Preparation Course\n",
      "Ninja  Web Developer Career Track - NodeJS\n",
      "Competitive Programming Course\n",
      "Android Development with Kotlin\n",
      "Ninja Data Scientist Career Track\n",
      "Python Foundation with Data Structures\n",
      "Ninja Machine Learning Engineer Career Track\n",
      "Aptitude Preparation Course\n"
     ]
    }
   ],
   "source": [
    "import requests\n",
    "res = requests.get('https://api.codingninjas.com/api/v3/courses')\n",
    "data=res.json()\n",
    "for i in data['data']['courses']:\n",
    "    print(i['name'])"
   ]
  },
  {
   "cell_type": "markdown",
   "metadata": {},
   "source": [
    "1. Print description of first event from Coding Ninjas Events API. If ther are no events in this API, then print \"No Events !\"\n",
    "2. Data can be fetched from this URL : Coding Ninjas Events API"
   ]
  },
  {
   "cell_type": "code",
   "execution_count": 27,
   "metadata": {},
   "outputs": [
    {
     "name": "stdout",
     "output_type": "stream",
     "text": [
      "Ninjas Career Camp Entrance Test is coming up on 16th June, from 12 AM onwards\n"
     ]
    }
   ],
   "source": [
    "import requests\n",
    "res = requests.get('https://api.codingninjas.com/api/v3/events?event_category=ALL_EVENTS&event_sub_category=All%20Time%20Favorites&tag_list=&offset=0&_ga=2.111388684.962935857.1661786120-456271772.1655977586')\n",
    "data=res.json()['data']['events']\n",
    "\n",
    "if len(data)==0:\n",
    "    print('No Events !')\n",
    "else:\n",
    "    print(data[0]['short_desc'])"
   ]
  },
  {
   "cell_type": "markdown",
   "metadata": {},
   "source": [
    "1. Print the title of course with id=19.\n",
    "2. URL : http://api.codingninjas.com/api/v3/courses"
   ]
  },
  {
   "cell_type": "code",
   "execution_count": 1,
   "metadata": {},
   "outputs": [
    {
     "name": "stdout",
     "output_type": "stream",
     "text": [
      "Machine Learning\n"
     ]
    }
   ],
   "source": [
    "import requests\n",
    "res = requests.get('http://api.codingninjas.com/api/v3/courses',params={'id':19})\n",
    "data=res.json()\n",
    "for i in data['data']['courses']:\n",
    "    if i['id']==19:\n",
    "        print(i['title'])\n",
    "        break"
   ]
  },
  {
   "cell_type": "markdown",
   "metadata": {},
   "source": [
    "1. Count the total number of cities of country AU from this URL : https://api.openaq.org/docs#/v2/citiesgetv2citiesget"
   ]
  },
  {
   "cell_type": "code",
   "execution_count": 2,
   "metadata": {},
   "outputs": [
    {
     "name": "stdout",
     "output_type": "stream",
     "text": [
      "81\n"
     ]
    }
   ],
   "source": [
    "import requests\n",
    "res = requests.get('https://api.openaq.org/v2/cities',params={'country':'AU'})\n",
    "data=res.json()\n",
    "print(len(data['results']))"
   ]
  },
  {
   "cell_type": "markdown",
   "metadata": {},
   "source": [
    "1. Print first 5 cities from country “BE”. Fetch the result from given URL.\n",
    "2. Order the results by city.\n",
    "3. URL - https://api.openaq.org/v1/cities Documentation - https://docs.openaq.org/\n"
   ]
  },
  {
   "cell_type": "code",
   "execution_count": 3,
   "metadata": {},
   "outputs": [
    {
     "name": "stdout",
     "output_type": "stream",
     "text": [
      "Antwerpen\n",
      "Brabant wallon\n",
      "Brussels-Capital Region\n",
      "Flanders\n",
      "Hainaut\n"
     ]
    }
   ],
   "source": [
    "import requests\n",
    "res = requests.get('https://api.openaq.org/v1/cities',params={'country':'BE','limit':5})\n",
    "data=res.json()\n",
    "for i in data['results']:\n",
    "    print(i['name'])"
   ]
  },
  {
   "cell_type": "markdown",
   "metadata": {},
   "source": [
    "1. Make an API call to - https://api.openweathermap.org/data/2.5/weather\n",
    "2. Search for \"Hyderabad\" and print weather report and Temperature.\n",
    "3. please go through the document to create your API Key and Print the answer. \n",
    "4. https://syncwith.com/api/metaweather-api#MetaWeater_Alternative_Open_Weather_Map"
   ]
  },
  {
   "cell_type": "code",
   "execution_count": 4,
   "metadata": {},
   "outputs": [
    {
     "name": "stdout",
     "output_type": "stream",
     "text": [
      "Hyderabad\n",
      "Temperature: 298.38\n",
      "Weather Report: haze\n"
     ]
    }
   ],
   "source": [
    "import requests\n",
    "res = requests.get('https://api.openweathermap.org/data/2.5/weather',params={'q':'Hyderabad','appid':'4f37d81d3d6a55228b7a9c8b5fc77d78'})\n",
    "data=res.json()\n",
    "print(data['name'])\n",
    "print('Temperature:',data['main']['temp'])\n",
    "print('Weather Report:',data['weather'][0]['description'])"
   ]
  },
  {
   "cell_type": "markdown",
   "metadata": {},
   "source": [
    "1. Find name of holiday on 2nd October 2021 in country India.\n",
    "2. You can read the documentation here : https://holidayapi.com/\n",
    "3. API Link to be used -https://holidayapi.com/v1/holidays"
   ]
  },
  {
   "cell_type": "code",
   "execution_count": 5,
   "metadata": {},
   "outputs": [
    {
     "name": "stdout",
     "output_type": "stream",
     "text": [
      "Mahatma Gandhi's Birthday\n"
     ]
    }
   ],
   "source": [
    "import requests\n",
    "res = requests.get('https://holidayapi.com/v1/holidays',params={'key':'425ddeb4-0a6f-4e75-ac1f-0bbf9f9bc512',\"country\":\"IN\",\"year\":2021,\"month\":10,\"day\":2 })\n",
    "data=res.json()\n",
    "print(data['holidays'][0]['name'])"
   ]
  }
 ],
 "metadata": {
  "kernelspec": {
   "display_name": "Python 3.9.13 64-bit",
   "language": "python",
   "name": "python3"
  },
  "language_info": {
   "codemirror_mode": {
    "name": "ipython",
    "version": 3
   },
   "file_extension": ".py",
   "mimetype": "text/x-python",
   "name": "python",
   "nbconvert_exporter": "python",
   "pygments_lexer": "ipython3",
   "version": "3.9.13"
  },
  "orig_nbformat": 4,
  "vscode": {
   "interpreter": {
    "hash": "b9f7f17e2dfc0342ad8fd0225d136ef60900e874e384a8df6732177035c72636"
   }
  }
 },
 "nbformat": 4,
 "nbformat_minor": 2
}
