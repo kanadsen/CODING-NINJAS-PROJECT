{
 "cells": [
  {
   "cell_type": "markdown",
   "metadata": {},
   "source": [
    "* TMDB DOCUMENTATION LINK\n",
    "https://developers.themoviedb.org/3\n",
    "\n",
    "* CREATING TMDB API\n",
    "https://www.themoviedb.org/settings/api/request\n"
   ]
  },
  {
   "cell_type": "markdown",
   "metadata": {},
   "source": [
    "Q1) Find the 'id' of the movie \"Andhadhun\" using TMDb API."
   ]
  },
  {
   "cell_type": "code",
   "execution_count": 1,
   "metadata": {},
   "outputs": [
    {
     "name": "stdout",
     "output_type": "stream",
     "text": [
      "534780\n"
     ]
    }
   ],
   "source": [
    "import requests\n",
    "import json\n",
    "apiKey='f7009ef3e3a2d9f5a811ce4c41ef5475'\n",
    "for i in range(1,10):\n",
    "    res = requests.get('https://api.themoviedb.org/3/discover/movie',params={'api_key':apiKey,'page':i,'region':'IN','year':2018}) # Discover part of api\n",
    "    data=res.json()\n",
    "    for i in data['results']:\n",
    "        if 'Andhadhun' in i['title']:\n",
    "            print(i['id'])\n",
    "            break"
   ]
  },
  {
   "cell_type": "markdown",
   "metadata": {},
   "source": [
    "1. Fetch the company id company 'Marvel Studios' using TMDb. Print the id."
   ]
  },
  {
   "cell_type": "code",
   "execution_count": 2,
   "metadata": {},
   "outputs": [
    {
     "name": "stdout",
     "output_type": "stream",
     "text": [
      "420\n"
     ]
    }
   ],
   "source": [
    "import requests\n",
    "import json\n",
    "apiKey='f7009ef3e3a2d9f5a811ce4c41ef5475'\n",
    "res = requests.get('https://api.themoviedb.org/3/search/company',params={'api_key':apiKey,'page':1,'query':'Marvel Studios'}) \n",
    "data=res.json()\n",
    "print(data['results'][0]['id'])"
   ]
  },
  {
   "cell_type": "markdown",
   "metadata": {},
   "source": [
    "1. Find the vote count and vote average of the movie \"3 Idiots\" using the TMDb API"
   ]
  },
  {
   "cell_type": "code",
   "execution_count": 5,
   "metadata": {},
   "outputs": [
    {
     "name": "stdout",
     "output_type": "stream",
     "text": [
      "1945 8\n"
     ]
    }
   ],
   "source": [
    "import requests\n",
    "import json\n",
    "apiKey='f7009ef3e3a2d9f5a811ce4c41ef5475'\n",
    "for i in range(1,10):\n",
    "    res = requests.get('https://api.themoviedb.org/3/discover/movie',params={'api_key':apiKey,'page':i,'region':'IN','year':2009}) \n",
    "    data=res.json()\n",
    "    for i in data['results']:\n",
    "        if '3 Idiots' in i['title']:\n",
    "            print(i['vote_count'],i['vote_average'])\n",
    "            break"
   ]
  },
  {
   "cell_type": "markdown",
   "metadata": {},
   "source": [
    "1. Fetch the names of top 5 similar movies to 'Inception' from the TMDb API."
   ]
  },
  {
   "cell_type": "code",
   "execution_count": 13,
   "metadata": {},
   "outputs": [
    {
     "name": "stdout",
     "output_type": "stream",
     "text": [
      "Showdown in Little Tokyo\n",
      "Scooby-Doo! and the Cyber Chase\n",
      "The Pink Panther 2\n",
      "Inglourious Basterds\n",
      "Agent Cody Banks 2: Destination London\n"
     ]
    }
   ],
   "source": [
    "import requests\n",
    "import json\n",
    "apiKey='f7009ef3e3a2d9f5a811ce4c41ef5475'\n",
    "id=0\n",
    "res = requests.get('https://api.themoviedb.org/3/search/movie',params={'api_key':apiKey,'query':'Inception'}) \n",
    "data=res.json()\n",
    "for i in data['results']:\n",
    "    if i['title']=='Inception':\n",
    "        id=i['id']\n",
    "        break\n",
    "#print(id)\n",
    "#GET /movie/{movie_id}/similar\n",
    "res = requests.get('https://api.themoviedb.org/3//movie/{}/similar'.format(id),params={'api_key':apiKey}) \n",
    "data=res.json()\n",
    "for i in data['results'][:5]:\n",
    "    print(i['title'])"
   ]
  },
  {
   "cell_type": "markdown",
   "metadata": {},
   "source": [
    "1. Fetch the top rated english movies in the US region using the TMDb API. From the result, print the first 10 movies which have original language as english. Also print their genres.\n",
    "2. Note: Do not use the search/movies API for finding genres."
   ]
  },
  {
   "cell_type": "code",
   "execution_count": 14,
   "metadata": {},
   "outputs": [
    {
     "name": "stdout",
     "output_type": "stream",
     "text": [
      "The Godfather - Drama, Crime, \n",
      "The Shawshank Redemption - Drama, Crime, \n",
      "The Godfather Part II - Drama, Crime, \n",
      "Schindler's List - Drama, History, War, \n",
      "12 Angry Men - Drama, \n",
      "The Green Mile - Fantasy, Drama, Crime, \n",
      "The Dark Knight - Drama, Action, Crime, Thriller, \n",
      "Gabriel's Inferno: Part II - Romance, \n",
      "Gabriel's Inferno - Romance, \n",
      "Pulp Fiction - Thriller, Crime, \n"
     ]
    }
   ],
   "source": [
    "import requests\n",
    "import json\n",
    "apiKey='f7009ef3e3a2d9f5a811ce4c41ef5475'\n",
    "res = requests.get('https://api.themoviedb.org/3/genre/movie/list',params={'api_key':apiKey}) \n",
    "data=res.json()\n",
    "genres={}\n",
    "for i in data['genres']:\n",
    "    genres[i['id']]=i['name']\n",
    "genres\n",
    "res = requests.get('https://api.themoviedb.org/3/movie/top_rated',params={'api_key':apiKey,'region':'US'}) \n",
    "data=res.json()\n",
    "data['results']\n",
    "count=0\n",
    "for i in data['results']:\n",
    "    if i['original_language']=='en':\n",
    "        print(i['title'],end=' - ')\n",
    "        for j in i['genre_ids']:\n",
    "            print(genres[j],end=', ')\n",
    "        print()\n",
    "        count+=1\n",
    "    if count==10:\n",
    "        break"
   ]
  },
  {
   "cell_type": "markdown",
   "metadata": {},
   "source": [
    "1. Find the name and birthplace of the present most popular person according to TMDb API."
   ]
  },
  {
   "cell_type": "code",
   "execution_count": 18,
   "metadata": {},
   "outputs": [
    {
     "name": "stdout",
     "output_type": "stream",
     "text": [
      "3194176\n",
      "Angeli Khang - Mandaluyong City, Philippines\n"
     ]
    }
   ],
   "source": [
    "import requests\n",
    "import json\n",
    "apiKey='f7009ef3e3a2d9f5a811ce4c41ef5475'\n",
    "res = requests.get('https://api.themoviedb.org/3/person/popular',params={'api_key':apiKey}) \n",
    "data=res.json()\n",
    "data=data['results'][0]\n",
    "Id=data['id']\n",
    "print(Id)\n",
    "res = requests.get('https://api.themoviedb.org/3/person/{}'.format(Id),params={'api_key':apiKey}) \n",
    "data=res.json()\n",
    "print(data['name'],'-',data['place_of_birth'])"
   ]
  },
  {
   "cell_type": "markdown",
   "metadata": {},
   "source": [
    "1. Fetch the Instagram and Twitter handle of Indian Actress \"Alia Bhatt\" from the TMDb API."
   ]
  },
  {
   "cell_type": "code",
   "execution_count": 19,
   "metadata": {},
   "outputs": [
    {
     "name": "stdout",
     "output_type": "stream",
     "text": [
      "aliaabhatt Aliaa08\n"
     ]
    }
   ],
   "source": [
    "import requests\n",
    "import json\n",
    "apiKey='f7009ef3e3a2d9f5a811ce4c41ef5475'\n",
    "res = requests.get('https://api.themoviedb.org/3/search/person',params={'api_key':apiKey,'query':'Alia Bhatt'}) \n",
    "data=res.json()\n",
    "ID  = data['results'][0]['id']\n",
    "res = requests.get(f'https://api.themoviedb.org/3/person/{ID}/external_ids',params={'api_key':apiKey}) \n",
    "data=res.json()\n",
    "print(data['instagram_id'],data['twitter_id'])"
   ]
  },
  {
   "cell_type": "markdown",
   "metadata": {},
   "source": [
    "1. Fetch the names of the character played by Tom Cruise in the movies:\n",
    "Top Gun\n",
    "Mission: Impossible - Fallout\n",
    "Minority Report\n",
    "Edge of Tomorrow"
   ]
  },
  {
   "cell_type": "code",
   "execution_count": 20,
   "metadata": {},
   "outputs": [
    {
     "name": "stdout",
     "output_type": "stream",
     "text": [
      "Lt. Pete 'Maverick' Mitchell\n",
      "Ethan Hunt\n",
      "Chief John Anderton\n",
      "Maj. William 'Bill' Cage\n"
     ]
    }
   ],
   "source": [
    "import requests\n",
    "import json\n",
    "apiKey='f7009ef3e3a2d9f5a811ce4c41ef5475'\n",
    "res = requests.get('https://api.themoviedb.org/3/search/person',params={'api_key':apiKey,'query':'Tom Cruise'}) \n",
    "data=res.json()\n",
    "ID  = data['results'][0]['id']\n",
    "res = requests.get(f'https://api.themoviedb.org/3/person/{ID}/movie_credits',params={'api_key':apiKey}) \n",
    "data=res.json()\n",
    "for i in data['cast']:\n",
    "    if i['title']=='Top Gun':\n",
    "        print(i['character'])\n",
    "        break\n",
    "for i in data['cast']:\n",
    "    if i['title']=='Mission: Impossible - Fallout': \n",
    "        print(i['character'])\n",
    "        break\n",
    "for i in data['cast']:\n",
    "    if i['title']=='Minority Report': \n",
    "        print(i['character'])\n",
    "        break\n",
    "for i in data['cast']:\n",
    "    if i['title']=='Edge of Tomorrow': \n",
    "        print(i['character'])\n",
    "        break"
   ]
  },
  {
   "cell_type": "markdown",
   "metadata": {},
   "source": [
    "1. Did James McAvoy play a role in the movie Deadpool 2. Print Yes or No."
   ]
  },
  {
   "cell_type": "code",
   "execution_count": 21,
   "metadata": {},
   "outputs": [
    {
     "name": "stdout",
     "output_type": "stream",
     "text": [
      "Yes\n"
     ]
    }
   ],
   "source": [
    "import requests\n",
    "import json\n",
    "apiKey='f7009ef3e3a2d9f5a811ce4c41ef5475'\n",
    "res = requests.get('https://api.themoviedb.org/3/search/person',params={'api_key':apiKey,'query':'McAvoy'}) # query taken for person because no query can be made fro movie name.\n",
    "# Also movie name does not contain names of cast to search on\n",
    "data=res.json()\n",
    "ID  = data['results'][0]['id']\n",
    "res = requests.get(f'https://api.themoviedb.org/3/person/{ID}/movie_credits',params={'api_key':apiKey}) \n",
    "data=res.json()\n",
    "for i in data['cast']:\n",
    "    if 'Deadpool' in i['title']:\n",
    "        print('Yes')\n",
    "        break\n",
    "else:\n",
    "    print('No')"
   ]
  }
 ],
 "metadata": {
  "kernelspec": {
   "display_name": "Python 3.9.13 64-bit",
   "language": "python",
   "name": "python3"
  },
  "language_info": {
   "codemirror_mode": {
    "name": "ipython",
    "version": 3
   },
   "file_extension": ".py",
   "mimetype": "text/x-python",
   "name": "python",
   "nbconvert_exporter": "python",
   "pygments_lexer": "ipython3",
   "version": "3.9.13"
  },
  "orig_nbformat": 4,
  "vscode": {
   "interpreter": {
    "hash": "b9f7f17e2dfc0342ad8fd0225d136ef60900e874e384a8df6732177035c72636"
   }
  }
 },
 "nbformat": 4,
 "nbformat_minor": 2
}
