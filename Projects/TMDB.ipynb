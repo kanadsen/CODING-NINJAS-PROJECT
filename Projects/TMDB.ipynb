{
 "cells": [
  {
   "cell_type": "markdown",
   "metadata": {},
   "source": [
    "* TMDB DOCUMENTATION LINK\n",
    "https://developers.themoviedb.org/3\n",
    "\n",
    "* CREATING TMDB API\n",
    "https://www.themoviedb.org/settings/api/request\n"
   ]
  },
  {
   "cell_type": "markdown",
   "metadata": {},
   "source": [
    "Q1) Find the 'id' of the movie \"Andhadhun\" using TMDb API."
   ]
  },
  {
   "cell_type": "code",
   "execution_count": 1,
   "metadata": {},
   "outputs": [
    {
     "name": "stdout",
     "output_type": "stream",
     "text": [
      "534780\n"
     ]
    }
   ],
   "source": [
    "import requests\n",
    "import json\n",
    "apiKey='f7009ef3e3a2d9f5a811ce4c41ef5475'\n",
    "for i in range(1,10):\n",
    "    res = requests.get('https://api.themoviedb.org/3/discover/movie',params={'api_key':apiKey,'page':i,'region':'IN','year':2018}) # Discover part of api\n",
    "    data=res.json()\n",
    "    for i in data['results']:\n",
    "        if 'Andhadhun' in i['title']:\n",
    "            print(i['id'])\n",
    "            break"
   ]
  },
  {
   "cell_type": "markdown",
   "metadata": {},
   "source": [
    "1. Fetch the company id company 'Marvel Studios' using TMDb. Print the id."
   ]
  },
  {
   "cell_type": "code",
   "execution_count": 2,
   "metadata": {},
   "outputs": [
    {
     "name": "stdout",
     "output_type": "stream",
     "text": [
      "420\n"
     ]
    }
   ],
   "source": [
    "import requests\n",
    "import json\n",
    "apiKey='f7009ef3e3a2d9f5a811ce4c41ef5475'\n",
    "res = requests.get('https://api.themoviedb.org/3/search/company',params={'api_key':apiKey,'page':1,'query':'Marvel Studios'}) \n",
    "data=res.json()\n",
    "print(data['results'][0]['id'])"
   ]
  },
  {
   "cell_type": "markdown",
   "metadata": {},
   "source": [
    "1. Find the vote count and vote average of the movie \"3 Idiots\" using the TMDb API"
   ]
  },
  {
   "cell_type": "code",
   "execution_count": 5,
   "metadata": {},
   "outputs": [
    {
     "name": "stdout",
     "output_type": "stream",
     "text": [
      "1945 8\n"
     ]
    }
   ],
   "source": [
    "import requests\n",
    "import json\n",
    "apiKey='f7009ef3e3a2d9f5a811ce4c41ef5475'\n",
    "for i in range(1,10):\n",
    "    res = requests.get('https://api.themoviedb.org/3/discover/movie',params={'api_key':apiKey,'page':i,'region':'IN','year':2009}) \n",
    "    data=res.json()\n",
    "    for i in data['results']:\n",
    "        if '3 Idiots' in i['title']:\n",
    "            print(i['vote_count'],i['vote_average'])\n",
    "            break"
   ]
  },
  {
   "cell_type": "markdown",
   "metadata": {},
   "source": [
    "1. Fetch the names of top 5 similar movies to 'Inception' from the TMDb API."
   ]
  },
  {
   "cell_type": "code",
   "execution_count": 13,
   "metadata": {},
   "outputs": [
    {
     "name": "stdout",
     "output_type": "stream",
     "text": [
      "Showdown in Little Tokyo\n",
      "Scooby-Doo! and the Cyber Chase\n",
      "The Pink Panther 2\n",
      "Inglourious Basterds\n",
      "Agent Cody Banks 2: Destination London\n"
     ]
    }
   ],
   "source": [
    "import requests\n",
    "import json\n",
    "apiKey='f7009ef3e3a2d9f5a811ce4c41ef5475'\n",
    "id=0\n",
    "res = requests.get('https://api.themoviedb.org/3/search/movie',params={'api_key':apiKey,'query':'Inception'}) \n",
    "data=res.json()\n",
    "for i in data['results']:\n",
    "    if i['title']=='Inception':\n",
    "        id=i['id']\n",
    "        break\n",
    "#print(id)\n",
    "#GET /movie/{movie_id}/similar\n",
    "res = requests.get('https://api.themoviedb.org/3//movie/{}/similar'.format(id),params={'api_key':apiKey}) \n",
    "data=res.json()\n",
    "for i in data['results'][:5]:\n",
    "    print(i['title'])"
   ]
  },
  {
   "cell_type": "markdown",
   "metadata": {},
   "source": [
    "1. Fetch the top rated english movies in the US region using the TMDb API. From the result, print the first 10 movies which have original language as english. Also print their genres.\n",
    "2. Note: Do not use the search/movies API for finding genres."
   ]
  },
  {
   "cell_type": "code",
   "execution_count": 14,
   "metadata": {},
   "outputs": [
    {
     "name": "stdout",
     "output_type": "stream",
     "text": [
      "The Godfather - Drama, Crime, \n",
      "The Shawshank Redemption - Drama, Crime, \n",
      "The Godfather Part II - Drama, Crime, \n",
      "Schindler's List - Drama, History, War, \n",
      "12 Angry Men - Drama, \n",
      "The Green Mile - Fantasy, Drama, Crime, \n",
      "The Dark Knight - Drama, Action, Crime, Thriller, \n",
      "Gabriel's Inferno: Part II - Romance, \n",
      "Gabriel's Inferno - Romance, \n",
      "Pulp Fiction - Thriller, Crime, \n"
     ]
    }
   ],
   "source": [
    "import requests\n",
    "import json\n",
    "apiKey='f7009ef3e3a2d9f5a811ce4c41ef5475'\n",
    "res = requests.get('https://api.themoviedb.org/3/genre/movie/list',params={'api_key':apiKey}) \n",
    "data=res.json()\n",
    "genres={}\n",
    "for i in data['genres']:\n",
    "    genres[i['id']]=i['name']\n",
    "genres\n",
    "res = requests.get('https://api.themoviedb.org/3/movie/top_rated',params={'api_key':apiKey,'region':'US'}) \n",
    "data=res.json()\n",
    "data['results']\n",
    "count=0\n",
    "for i in data['results']:\n",
    "    if i['original_language']=='en':\n",
    "        print(i['title'],end=' - ')\n",
    "        for j in i['genre_ids']:\n",
    "            print(genres[j],end=', ')\n",
    "        print()\n",
    "        count+=1\n",
    "    if count==10:\n",
    "        break"
   ]
  },
  {
   "cell_type": "markdown",
   "metadata": {},
   "source": [
    "1. Find the name and birthplace of the present most popular person according to TMDb API."
   ]
  },
  {
   "cell_type": "code",
   "execution_count": 18,
   "metadata": {},
   "outputs": [
    {
     "name": "stdout",
     "output_type": "stream",
     "text": [
      "3194176\n",
      "Angeli Khang - Mandaluyong City, Philippines\n"
     ]
    }
   ],
   "source": [
    "import requests\n",
    "import json\n",
    "apiKey='f7009ef3e3a2d9f5a811ce4c41ef5475'\n",
    "res = requests.get('https://api.themoviedb.org/3/person/popular',params={'api_key':apiKey}) \n",
    "data=res.json()\n",
    "data=data['results'][0]\n",
    "Id=data['id']\n",
    "print(Id)\n",
    "res = requests.get('https://api.themoviedb.org/3/person/{}'.format(Id),params={'api_key':apiKey}) \n",
    "data=res.json()\n",
    "print(data['name'],'-',data['place_of_birth'])"
   ]
  },
  {
   "cell_type": "markdown",
   "metadata": {},
   "source": [
    "1. Fetch the Instagram and Twitter handle of Indian Actress \"Alia Bhatt\" from the TMDb API."
   ]
  },
  {
   "cell_type": "code",
   "execution_count": 19,
   "metadata": {},
   "outputs": [
    {
     "name": "stdout",
     "output_type": "stream",
     "text": [
      "aliaabhatt Aliaa08\n"
     ]
    }
   ],
   "source": [
    "import requests\n",
    "import json\n",
    "apiKey='f7009ef3e3a2d9f5a811ce4c41ef5475'\n",
    "res = requests.get('https://api.themoviedb.org/3/search/person',params={'api_key':apiKey,'query':'Alia Bhatt'}) \n",
    "data=res.json()\n",
    "ID  = data['results'][0]['id']\n",
    "res = requests.get(f'https://api.themoviedb.org/3/person/{ID}/external_ids',params={'api_key':apiKey}) \n",
    "data=res.json()\n",
    "print(data['instagram_id'],data['twitter_id'])"
   ]
  },
  {
   "cell_type": "markdown",
   "metadata": {},
   "source": [
    "1. Fetch the names of the character played by Tom Cruise in the movies:\n",
    "Top Gun\n",
    "Mission: Impossible - Fallout\n",
    "Minority Report\n",
    "Edge of Tomorrow"
   ]
  },
  {
   "cell_type": "code",
   "execution_count": 20,
   "metadata": {},
   "outputs": [
    {
     "name": "stdout",
     "output_type": "stream",
     "text": [
      "Lt. Pete 'Maverick' Mitchell\n",
      "Ethan Hunt\n",
      "Chief John Anderton\n",
      "Maj. William 'Bill' Cage\n"
     ]
    }
   ],
   "source": [
    "import requests\n",
    "import json\n",
    "apiKey='f7009ef3e3a2d9f5a811ce4c41ef5475'\n",
    "res = requests.get('https://api.themoviedb.org/3/search/person',params={'api_key':apiKey,'query':'Tom Cruise'}) \n",
    "data=res.json()\n",
    "ID  = data['results'][0]['id']\n",
    "res = requests.get(f'https://api.themoviedb.org/3/person/{ID}/movie_credits',params={'api_key':apiKey}) \n",
    "data=res.json()\n",
    "for i in data['cast']:\n",
    "    if i['title']=='Top Gun':\n",
    "        print(i['character'])\n",
    "        break\n",
    "for i in data['cast']:\n",
    "    if i['title']=='Mission: Impossible - Fallout': \n",
    "        print(i['character'])\n",
    "        break\n",
    "for i in data['cast']:\n",
    "    if i['title']=='Minority Report': \n",
    "        print(i['character'])\n",
    "        break\n",
    "for i in data['cast']:\n",
    "    if i['title']=='Edge of Tomorrow': \n",
    "        print(i['character'])\n",
    "        break"
   ]
  },
  {
   "cell_type": "markdown",
   "metadata": {},
   "source": [
    "1. Did James McAvoy play a role in the movie Deadpool 2. Print Yes or No."
   ]
  },
  {
   "cell_type": "code",
   "execution_count": 21,
   "metadata": {},
   "outputs": [
    {
     "name": "stdout",
     "output_type": "stream",
     "text": [
      "Yes\n"
     ]
    }
   ],
   "source": [
    "import requests\n",
    "import json\n",
    "apiKey='f7009ef3e3a2d9f5a811ce4c41ef5475'\n",
    "res = requests.get('https://api.themoviedb.org/3/search/person',params={'api_key':apiKey,'query':'McAvoy'}) # query taken for person because no query can be made fro movie name.\n",
    "# Also movie name does not contain names of cast to search on\n",
    "data=res.json()\n",
    "ID  = data['results'][0]['id']\n",
    "res = requests.get(f'https://api.themoviedb.org/3/person/{ID}/movie_credits',params={'api_key':apiKey}) \n",
    "data=res.json()\n",
    "for i in data['cast']:\n",
    "    if 'Deadpool' in i['title']:\n",
    "        print('Yes')\n",
    "        break\n",
    "else:\n",
    "    print('No')"
   ]
  },
  {
   "cell_type": "markdown",
   "metadata": {},
   "source": [
    "1. Fetch the overview of the TV Show \"FRIENDS\" using TMDb API."
   ]
  },
  {
   "cell_type": "code",
   "execution_count": 22,
   "metadata": {},
   "outputs": [
    {
     "name": "stdout",
     "output_type": "stream",
     "text": [
      "Six young people from New York City, on their own and struggling to survive in the real world, find the companionship, comfort and support they get from each other to be the perfect antidote to the pressures of life.\n"
     ]
    }
   ],
   "source": [
    "import requests\n",
    "import json\n",
    "apiKey='f7009ef3e3a2d9f5a811ce4c41ef5475'\n",
    "res = requests.get('https://api.themoviedb.org/3/search/tv',params={'api_key':apiKey,'query':'FRIENDS'}) \n",
    "data=res.json()\n",
    "for i in data['results']:\n",
    "    if i['original_name']=='Friends':\n",
    "        print(i['overview'])\n",
    "        break"
   ]
  },
  {
   "cell_type": "markdown",
   "metadata": {},
   "source": [
    "1. Fetch the name and air date of S06E05 of the TV Show 'The Big Bang Theory' from TMDb API."
   ]
  },
  {
   "cell_type": "code",
   "execution_count": 26,
   "metadata": {},
   "outputs": [
    {
     "name": "stdout",
     "output_type": "stream",
     "text": [
      "The Holographic Excitation - 2012-10-25\n"
     ]
    }
   ],
   "source": [
    "import requests\n",
    "import json\n",
    "apiKey='f7009ef3e3a2d9f5a811ce4c41ef5475'\n",
    "res = requests.get('https://api.themoviedb.org/3/search/tv',params={'api_key':apiKey,'query':'The Big Bang Theory'}) \n",
    "data=res.json()\n",
    "ID=0\n",
    "for i in data['results']:\n",
    "    if i['original_name']=='The Big Bang Theory':\n",
    "        ID = i['id']\n",
    "        break\n",
    "res = requests.get('https://api.themoviedb.org/3/tv/{}/season/06/episode/05'.format(ID),params={'api_key':apiKey,'query':'The Big Bang Theory'}) \n",
    "data=res.json()\n",
    "print(data['name'],'-',data['air_date'])"
   ]
  },
  {
   "cell_type": "markdown",
   "metadata": {},
   "source": [
    "1. Fetch the trending TV Shows for the week from the TMDb API and print the taglines of the top 5 shows. \n",
    "2. If there is no tagline, print 'Empty' instead"
   ]
  },
  {
   "cell_type": "code",
   "execution_count": 31,
   "metadata": {},
   "outputs": [
    {
     "name": "stdout",
     "output_type": "stream",
     "text": [
      "What is lost will be found.\n",
      "Empty\n",
      "The Rebellion begins.\n",
      "Fight the dead. Fear the living.\n",
      "Empty\n"
     ]
    }
   ],
   "source": [
    "import requests\n",
    "import json\n",
    "apiKey='f7009ef3e3a2d9f5a811ce4c41ef5475'\n",
    "res = requests.get('https://api.themoviedb.org/3/trending/tv/week',params={'api_key':apiKey}) \n",
    "data=res.json()\n",
    "id=[]\n",
    "for i in data['results'][:5]:\n",
    "    id.append(i['id'])\n",
    "#print(id)\n",
    "for i in id:\n",
    "    res = requests.get(f'https://api.themoviedb.org/3/tv/{i}',params={'api_key':apiKey}) \n",
    "    data=res.json()\n",
    "    if data['tagline']=='':\n",
    "        print('Empty')\n",
    "    else:\n",
    "        print(data['tagline'])"
   ]
  },
  {
   "cell_type": "markdown",
   "metadata": {},
   "source": [
    "1. Print the names of all the TV shows to be aired today whose original language is english."
   ]
  },
  {
   "cell_type": "code",
   "execution_count": 32,
   "metadata": {},
   "outputs": [
    {
     "name": "stdout",
     "output_type": "stream",
     "text": [
      "The Peripheral\n",
      "Imlie y Cheeni\n",
      "Cuomo\n",
      "Strictly Come Dancing: It Takes Two\n",
      "Hollyoaks\n",
      "PBS NewsHour\n",
      "Criminal Minds\n",
      "Doctors\n",
      "Titans\n",
      "LIVE with Kelly and Ryan\n",
      "Richard Osman's House of Games\n",
      "I'm a Celebrity...Get Me Out of Here!\n",
      "Relative Justice\n",
      "Abot-Kamay Na Pangarap\n",
      "Emmerdale\n",
      "CNN This Morning\n",
      "Faltu\n",
      "Days of Our Lives\n",
      "EastEnders\n",
      "Coronation Street\n",
      "Tamron Hall\n",
      "¿Cómo se llama esta relación?\n",
      "The Tonight Show Starring Jimmy Fallon\n",
      "The Kardashians\n",
      "Home and Away\n",
      "The People's Court\n",
      "Family Feud Canada\n",
      "The Steve Wilkos Show\n",
      "The Sex Lives of College Girls\n",
      "Sherri\n",
      "Ghost Adventures\n",
      "Bhagya Lakshmi\n",
      "Wheel of Fortune\n",
      "Nakarehas Na Puso\n",
      "GRAND SUMO Highlights\n",
      "Question Time\n",
      "Pennyworth: The Origin of Batman's Butler\n",
      "The Masked Singer\n",
      "Star Trek: Prodigy\n",
      "Gangs of London\n",
      "Masterchef: The Professionals\n",
      "Love Island Australia\n",
      "The English\n",
      "Tug of Words\n",
      "WWE Main Event\n",
      "America Says\n",
      "Taskmaster\n",
      "Penn & Teller: Fool Us\n",
      "Japanology Plus\n",
      "RuPaul's Drag Race UK\n",
      "Fleishman Is in Trouble\n",
      "The Bold and the Beautiful\n",
      "Australia's Got Talent\n",
      "The Russell Howard Hour\n",
      "Justice with Judge Mablean\n",
      "Staged\n",
      "Ice Road Rescue\n",
      "MLW Fusion\n",
      "Kids Baking Championship\n",
      "The Big Brunch\n",
      "Ijab Kabut\n",
      "True Crime Story\n",
      "The Horne Section TV Show\n",
      "Inside the Tower of London\n",
      "Play-Doh Squished\n",
      "Fantasy Football League\n",
      "Cooks On Fire\n",
      "Shortland Street\n",
      "Chicken Girls: Forever Team\n",
      "Aldi's Next Big Thing\n",
      "The Secret Genius of Modern Life\n",
      "Crime Patrol 2.0\n",
      "Guard Komando\n",
      "Chicken Girls\n",
      "People Puzzler\n",
      "Impact Wrestling\n",
      "Help! My House Is Haunted!\n",
      "My Little Pony: Tell Your Tale\n",
      "War Against Humanity\n",
      "Brian Cox: How The Other Half Live\n",
      "Macy's Thanksgiving Day Parade\n",
      "Reef School\n",
      "Warplane Workshop\n",
      "Good Rivals\n",
      "Painted with Raven\n"
     ]
    }
   ],
   "source": [
    "import requests\n",
    "import json\n",
    "apiKey='f7009ef3e3a2d9f5a811ce4c41ef5475'\n",
    "res = requests.get('https://api.themoviedb.org/3/tv/airing_today',params={'api_key':apiKey}) \n",
    "data=res.json()\n",
    "total_pages=data['total_pages']\n",
    "\n",
    "for j in range(1,total_pages+1):\n",
    "    res = requests.get('https://api.themoviedb.org/3/tv/airing_today',params={'api_key':apiKey,'page':j}) \n",
    "    data=res.json()\n",
    "    for i in data['results']:\n",
    "        if i['original_language']=='en':\n",
    "            print(i['name'])"
   ]
  },
  {
   "cell_type": "markdown",
   "metadata": {},
   "source": [
    "1. Count the number of males and females in the cast of \"Money Heist\" using the TMDb API."
   ]
  },
  {
   "cell_type": "code",
   "execution_count": 35,
   "metadata": {},
   "outputs": [
    {
     "name": "stdout",
     "output_type": "stream",
     "text": [
      "5 10\n"
     ]
    }
   ],
   "source": [
    "import requests\n",
    "import json\n",
    "ID=0\n",
    "apiKey='f7009ef3e3a2d9f5a811ce4c41ef5475'\n",
    "res = requests.get('https://api.themoviedb.org/3/search/tv',params={'api_key':apiKey,'query':'Money Heist'}) \n",
    "data=res.json()\n",
    "for i in data['results']:\n",
    "    if i['name']=='Money Heist':\n",
    "        ID = i['id']\n",
    "        break\n",
    "res = requests.get('https://api.themoviedb.org/3/tv/{}/credits'.format(71446),params={'api_key':apiKey}) \n",
    "data=res.json()\n",
    "Female=0\n",
    "Male=0\n",
    "for  i in data['cast']:\n",
    "    if i['gender']==1:\n",
    "        Male+=1\n",
    "    elif i['gender']==2:\n",
    "        Female+=1\n",
    "        \n",
    "print(Male,Female)"
   ]
  }
 ],
 "metadata": {
  "kernelspec": {
   "display_name": "Python 3.9.13 64-bit",
   "language": "python",
   "name": "python3"
  },
  "language_info": {
   "codemirror_mode": {
    "name": "ipython",
    "version": 3
   },
   "file_extension": ".py",
   "mimetype": "text/x-python",
   "name": "python",
   "nbconvert_exporter": "python",
   "pygments_lexer": "ipython3",
   "version": "3.9.13"
  },
  "orig_nbformat": 4,
  "vscode": {
   "interpreter": {
    "hash": "b9f7f17e2dfc0342ad8fd0225d136ef60900e874e384a8df6732177035c72636"
   }
  }
 },
 "nbformat": 4,
 "nbformat_minor": 2
}
