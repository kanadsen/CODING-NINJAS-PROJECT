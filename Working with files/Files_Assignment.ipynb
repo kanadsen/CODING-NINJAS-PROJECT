{
 "cells": [
  {
   "cell_type": "markdown",
   "metadata": {},
   "source": [
    "1. Print 100 Bytes\n",
    "2. Given file \"Sample.txt\"\n",
    "3. Open the file\n",
    "4. Read the first 100 bytes of file and print them."
   ]
  },
  {
   "cell_type": "code",
   "execution_count": 469,
   "metadata": {},
   "outputs": [
    {
     "name": "stdout",
     "output_type": "stream",
     "text": [
      "Lorem ipsum dolor sit amet, consectetur adipiscing elit. Vivamus condimentum sagittis lacus, laoreet\n"
     ]
    }
   ],
   "source": [
    "## Open and read data file as specified in the question\n",
    "## Print the required output in given format\n",
    "with open('Sample.txt','r') as file:\n",
    "    print(file.read(100))"
   ]
  },
  {
   "cell_type": "markdown",
   "metadata": {},
   "source": [
    "Given file \"Sample.txt\"\n",
    "Open the file\n",
    "Read the first 5 lines from file and print them (in separate lines).\n",
    "Output Format :\n",
    "Line 1\n",
    "Line 2\n",
    "Line 3\n",
    "Line 4\n",
    "Line 5"
   ]
  },
  {
   "cell_type": "code",
   "execution_count": 470,
   "metadata": {},
   "outputs": [
    {
     "name": "stdout",
     "output_type": "stream",
     "text": [
      "Lorem ipsum dolor sit amet, consectetur adipiscing elit. Vivamus condimentum sagittis lacus, laoreet luctus ligula laoreet ut. Vestibulum ullamcorper accumsan velit vel vehicula. Proin tempor lacus arcu. Nunc at elit condimentum, semper nisi et, condimentum mi. In venenatis blandit nibh at sollicitudin. Vestibulum dapibus mauris at orci maximus pellentesque. Nullam id elementum ipsum. Suspendisse cursus lobortis viverra. Proin et erat at mauris tincidunt porttitor vitae ac dui.\n",
      "\n",
      "Donec vulputate lorem tortor, nec fermentum nibh bibendum vel. Lorem ipsum dolor sit amet, consectetur adipiscing elit. Praesent dictum luctus massa, non euismod lacus. Pellentesque condimentum dolor est, ut dapibus lectus luctus ac. Ut sagittis commodo arcu. Integer nisi nulla, facilisis sit amet nulla quis, eleifend suscipit purus. Class aptent taciti sociosqu ad litora torquent per conubia nostra, per inceptos himenaeos. Aliquam euismod ultrices lorem, sit amet imperdiet est tincidunt vel. Phasellus dictum justo sit amet ligula varius aliquet auctor et metus. Fusce vitae tortor et nisi pulvinar vestibulum eget in risus. Donec ante ex, placerat a lorem eget, ultricies bibendum purus. Nam sit amet neque non ante laoreet rutrum. Nullam aliquet commodo urna, sed ullamcorper odio feugiat id. Mauris nisi sapien, porttitor in condimentum nec, venenatis eu urna. Pellentesque feugiat diam est, at rhoncus orci porttitor non.\n",
      "\n",
      "Nulla luctus sem sit amet nisi consequat, id ornare ipsum dignissim. Sed elementum elit nibh, eu condimentum orci viverra quis. Aenean suscipit vitae felis non suscipit. Suspendisse pharetra turpis non eros semper dictum. Etiam tincidunt venenatis venenatis. Praesent eget gravida lorem, ut congue diam. Etiam facilisis elit at porttitor egestas. Praesent consequat, velit non vulputate convallis, ligula diam sagittis urna, in venenatis nisi justo ut mauris. Vestibulum posuere sollicitudin mi, et vulputate nisl fringilla non. Nulla ornare pretium velit a euismod. Nunc sagittis venenatis vestibulum. Nunc sodales libero a est ornare ultricies. Sed sed leo sed orci pellentesque ultrices. Mauris sollicitudin, sem quis placerat ornare, velit arcu convallis ligula, pretium finibus nisl sapien vel sem. Vivamus sit amet tortor id lorem consequat hendrerit. Nullam at dui risus.\n",
      "\n",
      "Vestibulum ante ipsum primis in faucibus orci luctus et ultrices posuere cubilia Curae; Lorem ipsum dolor sit amet, consectetur adipiscing elit. Sed feugiat semper velit consequat facilisis. Etiam facilisis justo non iaculis dictum. Fusce turpis neque, pharetra ut odio eu, hendrerit rhoncus lacus. Nunc orci felis, imperdiet vel interdum quis, porta eu ipsum. Pellentesque dictum sem lacinia, auctor dui in, malesuada nunc. Maecenas sit amet mollis eros. Proin fringilla viverra ligula, sollicitudin viverra ante sollicitudin congue. Donec mollis felis eu libero malesuada, et lacinia risus interdum.\n",
      "\n",
      "Etiam vitae accumsan augue. Ut urna orci, malesuada ut nisi a, condimentum gravida magna. Nulla bibendum ex in vulputate sagittis. Nulla facilisi. Nullam faucibus et metus ac consequat. Quisque tempor eros velit, id mattis nibh aliquet a. Aenean tempor elit ut finibus auctor. Sed at imperdiet mauris. Vestibulum pharetra non lacus sed pulvinar. Sed pellentesque magna a eros volutpat ullamcorper. In hac habitasse platea dictumst. Donec ipsum mi, feugiat in eros sed, varius lacinia turpis. Donec vulputate tincidunt dui ac laoreet. Sed in eros dui. Pellentesque placerat tristique ligula eu finibus. Proin nec faucibus felis, eu commodo ipsum.\n",
      "\n"
     ]
    }
   ],
   "source": [
    "## Open and read data file as specified in the question\n",
    "## Print the required output in given format\n",
    "with open('Sample.txt','r') as file:\n",
    "    for i in range(5):\n",
    "        print(file.readline())"
   ]
  },
  {
   "cell_type": "markdown",
   "metadata": {},
   "source": [
    "Print 5 Lines (Readlines)\n",
    "Given file \"Sample.txt\"\n",
    "Open the file\n",
    "Read the first 5 lines from file and print them.\n",
    "Note : Use readlines() method only\n",
    "Output Format :\n",
    "Line 1\n",
    "Line 2\n",
    "Line 3\n",
    "Line 4\n",
    "Line 5"
   ]
  },
  {
   "cell_type": "code",
   "execution_count": 471,
   "metadata": {},
   "outputs": [
    {
     "name": "stdout",
     "output_type": "stream",
     "text": [
      "Lorem ipsum dolor sit amet, consectetur adipiscing elit. Vivamus condimentum sagittis lacus, laoreet luctus ligula laoreet ut. Vestibulum ullamcorper accumsan velit vel vehicula. Proin tempor lacus arcu. Nunc at elit condimentum, semper nisi et, condimentum mi. In venenatis blandit nibh at sollicitudin. Vestibulum dapibus mauris at orci maximus pellentesque. Nullam id elementum ipsum. Suspendisse cursus lobortis viverra. Proin et erat at mauris tincidunt porttitor vitae ac dui.\n",
      "\n",
      "Donec vulputate lorem tortor, nec fermentum nibh bibendum vel. Lorem ipsum dolor sit amet, consectetur adipiscing elit. Praesent dictum luctus massa, non euismod lacus. Pellentesque condimentum dolor est, ut dapibus lectus luctus ac. Ut sagittis commodo arcu. Integer nisi nulla, facilisis sit amet nulla quis, eleifend suscipit purus. Class aptent taciti sociosqu ad litora torquent per conubia nostra, per inceptos himenaeos. Aliquam euismod ultrices lorem, sit amet imperdiet est tincidunt vel. Phasellus dictum justo sit amet ligula varius aliquet auctor et metus. Fusce vitae tortor et nisi pulvinar vestibulum eget in risus. Donec ante ex, placerat a lorem eget, ultricies bibendum purus. Nam sit amet neque non ante laoreet rutrum. Nullam aliquet commodo urna, sed ullamcorper odio feugiat id. Mauris nisi sapien, porttitor in condimentum nec, venenatis eu urna. Pellentesque feugiat diam est, at rhoncus orci porttitor non.\n",
      "\n",
      "Nulla luctus sem sit amet nisi consequat, id ornare ipsum dignissim. Sed elementum elit nibh, eu condimentum orci viverra quis. Aenean suscipit vitae felis non suscipit. Suspendisse pharetra turpis non eros semper dictum. Etiam tincidunt venenatis venenatis. Praesent eget gravida lorem, ut congue diam. Etiam facilisis elit at porttitor egestas. Praesent consequat, velit non vulputate convallis, ligula diam sagittis urna, in venenatis nisi justo ut mauris. Vestibulum posuere sollicitudin mi, et vulputate nisl fringilla non. Nulla ornare pretium velit a euismod. Nunc sagittis venenatis vestibulum. Nunc sodales libero a est ornare ultricies. Sed sed leo sed orci pellentesque ultrices. Mauris sollicitudin, sem quis placerat ornare, velit arcu convallis ligula, pretium finibus nisl sapien vel sem. Vivamus sit amet tortor id lorem consequat hendrerit. Nullam at dui risus.\n",
      "\n",
      "Vestibulum ante ipsum primis in faucibus orci luctus et ultrices posuere cubilia Curae; Lorem ipsum dolor sit amet, consectetur adipiscing elit. Sed feugiat semper velit consequat facilisis. Etiam facilisis justo non iaculis dictum. Fusce turpis neque, pharetra ut odio eu, hendrerit rhoncus lacus. Nunc orci felis, imperdiet vel interdum quis, porta eu ipsum. Pellentesque dictum sem lacinia, auctor dui in, malesuada nunc. Maecenas sit amet mollis eros. Proin fringilla viverra ligula, sollicitudin viverra ante sollicitudin congue. Donec mollis felis eu libero malesuada, et lacinia risus interdum.\n",
      "\n",
      "Etiam vitae accumsan augue. Ut urna orci, malesuada ut nisi a, condimentum gravida magna. Nulla bibendum ex in vulputate sagittis. Nulla facilisi. Nullam faucibus et metus ac consequat. Quisque tempor eros velit, id mattis nibh aliquet a. Aenean tempor elit ut finibus auctor. Sed at imperdiet mauris. Vestibulum pharetra non lacus sed pulvinar. Sed pellentesque magna a eros volutpat ullamcorper. In hac habitasse platea dictumst. Donec ipsum mi, feugiat in eros sed, varius lacinia turpis. Donec vulputate tincidunt dui ac laoreet. Sed in eros dui. Pellentesque placerat tristique ligula eu finibus. Proin nec faucibus felis, eu commodo ipsum.\n",
      "\n"
     ]
    }
   ],
   "source": [
    "with open(\"Sample.txt\",'r') as file_obj: \n",
    "    file_data=file_obj.readlines()\n",
    "    for i in range(5):\n",
    "        print(file_data[i])"
   ]
  },
  {
   "cell_type": "markdown",
   "metadata": {},
   "source": [
    "1. Open and read the file\n",
    "2. Print the first 3 rows of the file, excluding header (in different lines)\n",
    "3. Print columns of one row, separated by space"
   ]
  },
  {
   "cell_type": "code",
   "execution_count": 472,
   "metadata": {},
   "outputs": [
    {
     "name": "stdout",
     "output_type": "stream",
     "text": [
      "2017 1 2 Afghanistan South Asia Takhta Pul 31.320556 65.961111 Hostage Taking (Kidnapping) 0.0 0.0 Construction Workers Taliban Business Firearms 0.0\n",
      "2017 1 3 Sudan Sub-Saharan Africa Fantaga 12.921007000000001 24.318324 Armed Assault 2.0 0.0 Civilians: Haroun Yousif, Hamid Ibrahim Unknown Private Citizens & Property Firearms 2.0\n",
      "2017 1 1 Democratic Republic of the Congo Sub-Saharan Africa Saboko 1.452372 29.875162 Armed Assault 7.0 0.0 Village Allied Democratic Forces (ADF) Private Citizens & Property Melee 7.0\n"
     ]
    }
   ],
   "source": [
    "import csv\n",
    "file_obj=open('year2017.csv')\n",
    "file_data=csv.reader(file_obj)\n",
    "file=list(file_data)\n",
    "for i in range(1,4,1):\n",
    "    str1=\" \"\n",
    "    print(str1.join(file[i]))  # Convert list to string separated by ' '"
   ]
  },
  {
   "cell_type": "markdown",
   "metadata": {},
   "source": [
    "1. Open and read the file\n",
    "2. Print the name of columns (in different lines)"
   ]
  },
  {
   "cell_type": "code",
   "execution_count": 473,
   "metadata": {},
   "outputs": [
    {
     "name": "stdout",
     "output_type": "stream",
     "text": [
      "Year\n",
      "Month\n",
      "Day\n",
      "Country\n",
      "Region\n",
      "city\n",
      "latitude\n",
      "longitude\n",
      "AttackType\n",
      "Killed\n",
      "Wounded\n",
      "Target\n",
      "Group\n",
      "Target_type\n",
      "Weapon_type\n",
      "casualities\n"
     ]
    }
   ],
   "source": [
    "for i in file[0]:\n",
    "    print(i)"
   ]
  },
  {
   "cell_type": "markdown",
   "metadata": {},
   "source": [
    "1. Open and read the file\n",
    "2. Print the country names from first 10 rows (in different lines)"
   ]
  },
  {
   "cell_type": "code",
   "execution_count": 474,
   "metadata": {},
   "outputs": [
    {
     "name": "stdout",
     "output_type": "stream",
     "text": [
      "Afghanistan\n",
      "Sudan\n",
      "Democratic Republic of the Congo\n",
      "Democratic Republic of the Congo\n",
      "Turkey\n",
      "Syria\n",
      "Pakistan\n",
      "Italy\n",
      "Turkey\n",
      "Turkey\n"
     ]
    }
   ],
   "source": [
    "for i in range(1,11,1):\n",
    "    print(file[i][3])\n",
    "file_obj.close()"
   ]
  },
  {
   "cell_type": "markdown",
   "metadata": {},
   "source": [
    "1. Find and print the total number of wounded people.\n",
    "2. Print the count as integer value."
   ]
  },
  {
   "cell_type": "code",
   "execution_count": 475,
   "metadata": {},
   "outputs": [
    {
     "name": "stdout",
     "output_type": "stream",
     "text": [
      "24927\n"
     ]
    }
   ],
   "source": [
    "file_obj=open('year2017.csv')\n",
    "file_data=csv.reader(file_obj,skipinitialspace=True)\n",
    "file=list(file_data)\n",
    "index=file[0].index(\"Wounded\")  # Finding index of required colum\n",
    "sum=0\n",
    "for i in file[1:]:\n",
    "    if i[index]!='':\n",
    "      sum+=float(i[index])\n",
    "print(int(sum))\n"
   ]
  },
  {
   "cell_type": "markdown",
   "metadata": {},
   "source": [
    "1. Find and print the total number of wounded people who are from country \"India\".\n",
    "2. Print the count as integer value."
   ]
  },
  {
   "cell_type": "code",
   "execution_count": 476,
   "metadata": {},
   "outputs": [
    {
     "name": "stdout",
     "output_type": "stream",
     "text": [
      "702\n"
     ]
    }
   ],
   "source": [
    "sum=0\n",
    "for i in file[1:]:\n",
    "    if i[index]!='' and \"India\" in i:\n",
    "      sum+=float(i[index])\n",
    "print(int(sum))\n",
    "file_obj.close()\n"
   ]
  },
  {
   "cell_type": "markdown",
   "metadata": {},
   "source": [
    "1. Find and print total number of casualties with “Explosives” Weapon_type.\n",
    "2. Print the count as integer value."
   ]
  },
  {
   "cell_type": "code",
   "execution_count": 477,
   "metadata": {},
   "outputs": [
    {
     "name": "stdout",
     "output_type": "stream",
     "text": [
      "29280\n"
     ]
    }
   ],
   "source": [
    "import csv\n",
    "file_obj=open(\"year2017.csv\",'r')\n",
    "file_data=csv.DictReader(file_obj,skipinitialspace=True)\n",
    "#print(file_data)\n",
    "sum=0\n",
    "for row in file_data:\n",
    "    if row['Weapon_type']=='Explosives':\n",
    "        if row['casualities']!='':\n",
    "            sum+=float(row['casualities'])\n",
    "print(int(sum))\n",
    "file_obj.close()"
   ]
  },
  {
   "cell_type": "markdown",
   "metadata": {},
   "source": [
    "1. Find the total number people killed in each month.\n",
    "2. Print the month and count of killed people as integer value."
   ]
  },
  {
   "cell_type": "code",
   "execution_count": 478,
   "metadata": {},
   "outputs": [
    {
     "name": "stdout",
     "output_type": "stream",
     "text": [
      "1   2275\n",
      "2   2027\n",
      "3   2463\n",
      "4   2142\n",
      "5   2936\n",
      "6   2506\n",
      "7   2228\n",
      "8   2145\n",
      "9   1764\n",
      "10   2580\n",
      "11   2014\n",
      "12   1365\n"
     ]
    }
   ],
   "source": [
    "import csv\n",
    "file_obj=open(\"year2017.csv\",'r')\n",
    "file_data=csv.DictReader(file_obj,skipinitialspace=True)\n",
    "#print(file_data)\n",
    "kill={}\n",
    "for row in file_data:\n",
    "    mon=row['Month']\n",
    "    value=0\n",
    "    if row['Killed']!='':\n",
    "         value=int(float(row['Killed']))\n",
    "    if mon in kill:        \n",
    "        kill[mon]+=value\n",
    "    else:\n",
    "        kill[mon]=value\n",
    "for i in kill:\n",
    "    print(i,\" \",kill[i])\n",
    "file_obj.close()"
   ]
  },
  {
   "cell_type": "markdown",
   "metadata": {},
   "source": [
    "1. Find total number of casualties in each country.\n",
    "2. Print number of casualties as integer value."
   ]
  },
  {
   "cell_type": "code",
   "execution_count": 479,
   "metadata": {},
   "outputs": [
    {
     "name": "stdout",
     "output_type": "stream",
     "text": [
      "Afghanistan   11698\n",
      "Sudan   255\n",
      "Democratic Republic of the Congo   636\n",
      "Turkey   548\n",
      "Syria   2731\n",
      "Pakistan   3153\n",
      "Italy   8\n",
      "Somalia   3038\n",
      "Yemen   1446\n",
      "Bahrain   32\n",
      "Myanmar   85\n",
      "Burundi   147\n",
      "Iraq   10999\n",
      "Egypt   1499\n",
      "Burkina Faso   98\n",
      "India   1157\n",
      "Algeria   31\n",
      "United States   1027\n",
      "Philippines   1148\n",
      "Greece   7\n",
      "Mali   657\n",
      "Libya   316\n",
      "Central African Republic   569\n",
      "Nigeria   2300\n",
      "Lebanon   66\n",
      "Mexico   29\n",
      "Cameroon   448\n",
      "Ethiopia   80\n",
      "Kyrgyzstan   0\n",
      "Serbia   1\n",
      "Sweden   37\n",
      "Thailand   342\n",
      "Iran   106\n",
      "France   35\n",
      "United Kingdom   343\n",
      "West Bank and Gaza Strip   125\n",
      "Ukraine   104\n",
      "Paraguay   5\n",
      "Colombia   188\n",
      "Malaysia   6\n",
      "Russia   175\n",
      "Kosovo   4\n",
      "South Africa   28\n",
      "Chile   2\n",
      "Kenya   204\n",
      "Israel   18\n",
      "Saudi Arabia   100\n",
      "China   92\n",
      "Nepal   97\n",
      "Ecuador   0\n",
      "Niger   210\n",
      "Venezuela   37\n",
      "South Sudan   836\n",
      "Canada   31\n",
      "Bangladesh   97\n",
      "Tajikistan   1\n",
      "Angola   416\n",
      "Ireland   0\n",
      "Peru   12\n",
      "Dominican Republic   3\n",
      "Poland   0\n",
      "Jordan   5\n",
      "Azerbaijan   7\n",
      "Mozambique   33\n",
      "Indonesia   47\n",
      "Germany   11\n",
      "Brazil   0\n",
      "Macedonia   0\n",
      "Tunisia   10\n",
      "Uganda   9\n",
      "Chad   2\n",
      "Finland   12\n",
      "Australia   25\n",
      "Norway   0\n",
      "Vietnam   0\n",
      "Tanzania   10\n",
      "Sierra Leone   0\n",
      "Sri Lanka   4\n",
      "Maldives   1\n",
      "Belgium   4\n",
      "Rwanda   10\n",
      "Honduras   2\n",
      "Czech Republic   0\n",
      "Malta   1\n",
      "Gabon   2\n",
      "Laos   1\n",
      "Djibouti   0\n",
      "Austria   2\n",
      "Zambia   0\n",
      "Argentina   0\n",
      "Papua New Guinea   3\n",
      "Zimbabwe   1\n",
      "Ivory Coast   5\n",
      "Spain   132\n",
      "Taiwan   1\n",
      "Jamaica   0\n",
      "Albania   0\n",
      "Liberia   0\n",
      "Georgia   5\n",
      "Malawi   0\n",
      "Netherlands   0\n",
      "Latvia   0\n"
     ]
    }
   ],
   "source": [
    "import csv\n",
    "file_obj=open(\"year2017.csv\",'r')\n",
    "file_data=csv.DictReader(file_obj,skipinitialspace=True)\n",
    "#print(file_data)\n",
    "kill={}\n",
    "for row in file_data:\n",
    "    mon=row['Country']\n",
    "    value=0\n",
    "    if row['casualities']!='':\n",
    "         value=int(float(row['casualities']))\n",
    "    if mon in kill:        \n",
    "        kill[mon]+=value\n",
    "    else:\n",
    "        kill[mon]=value\n",
    "for i in kill:\n",
    "    print(i,\" \",kill[i])\n",
    "file_obj.close()"
   ]
  },
  {
   "cell_type": "markdown",
   "metadata": {},
   "source": [
    "ASSIGNMENT QUESTIONS ON AMAZON JOBS DATASET"
   ]
  },
  {
   "cell_type": "markdown",
   "metadata": {},
   "source": [
    "1. Find number of job openings in Bangalore,IN and in Seattle,US?\n",
    "2. Print the Number of Job opening in Bangalore and Seattle as Integer value."
   ]
  },
  {
   "cell_type": "code",
   "execution_count": 480,
   "metadata": {},
   "outputs": [
    {
     "name": "stdout",
     "output_type": "stream",
     "text": [
      "66 1856\n"
     ]
    }
   ],
   "source": [
    "# worked in Coding ninjas website. Throws some exception due to data set\n",
    "import csv\n",
    "with open('amazon_jobs_dataset.csv',encoding='utf-8') as file_obj:\n",
    "    file_data = csv.DictReader(file_obj,skipinitialspace=True)\n",
    "    file_list=list(file_data)\n",
    "Bangalore  = 0\n",
    "Seattle =0\n",
    "for row in file_list :\n",
    "    key = row['location']\n",
    "    data = key.split(', ')\n",
    "    for i in data:\n",
    "        if i.strip()=='Bangalore':\n",
    "            Bangalore+=1\n",
    "        if i.strip()=='Seattle':\n",
    "            Seattle+=1\n",
    "            \n",
    "print(Bangalore,Seattle)"
   ]
  },
  {
   "cell_type": "markdown",
   "metadata": {},
   "source": [
    "1. What are the total number of job openings related to Computer Vision ?\n",
    "2. Note:For finding the job related to computer vision check the Job Title column.\n",
    "3. Print the count as the Integer Value"
   ]
  },
  {
   "cell_type": "code",
   "execution_count": 481,
   "metadata": {},
   "outputs": [
    {
     "name": "stdout",
     "output_type": "stream",
     "text": [
      "14\n"
     ]
    }
   ],
   "source": [
    "import csv\n",
    "with open('amazon_jobs_dataset.csv',encoding='utf-8') as file_obj:\n",
    "    file_data = csv.DictReader(file_obj,skipinitialspace=True)\n",
    "    count=0\n",
    "    for row in file_data:\n",
    "        if \"Computer Vision\" in row['Title']:\n",
    "            count+=1\n",
    "print(count)"
   ]
  },
  {
   "cell_type": "markdown",
   "metadata": {},
   "source": [
    "1. Find the number of job openings in Canada?\n",
    "2. Print the count as the Integer Value"
   ]
  },
  {
   "cell_type": "code",
   "execution_count": 482,
   "metadata": {},
   "outputs": [
    {
     "name": "stdout",
     "output_type": "stream",
     "text": [
      "156\n"
     ]
    }
   ],
   "source": [
    "import csv\n",
    "with open('amazon_jobs_dataset.csv',encoding='utf-8') as file_obj:\n",
    "    file_data = csv.DictReader(file_obj,skipinitialspace=True)\n",
    "    count=0\n",
    "    for row in file_data:\n",
    "        if \"CA\" in row['location'].split(','):   # splitting the string into list. Otherwise the CA term can be matched in the string many times\n",
    "            count+=1\n",
    "print(count)"
   ]
  },
  {
   "cell_type": "markdown",
   "metadata": {},
   "source": [
    "1. Find the month having most job openings in Year 2018 ?\n",
    "2. Print the month (Month Name i.e January, February, March) and Number of job opening as Integer Value"
   ]
  },
  {
   "cell_type": "code",
   "execution_count": 483,
   "metadata": {},
   "outputs": [
    {
     "name": "stdout",
     "output_type": "stream",
     "text": [
      "January   907\n"
     ]
    }
   ],
   "source": [
    "import csv\n",
    "with open('amazon_jobs_dataset.csv',encoding='utf-8') as file_obj:\n",
    "    file_data = csv.DictReader(file_obj,skipinitialspace=True)\n",
    "    mon={}\n",
    "    for row in file_data:\n",
    "        v=row['Posting_date'].split(',') # splitting the string into list.\n",
    "        if '2018' in row['Posting_date']:  # Checking Year\n",
    "            if v[0].split()[0] in mon:   # Again splitting the string \n",
    "                mon[v[0].split()[0]]+=1  \n",
    "            else:\n",
    "                mon[v[0].split()[0]]=1\n",
    "    Keymax = max(zip(mon.values(), mon.keys()))[1]  # Finding the key corresponding to max value\n",
    "    print(Keymax,\" \",mon[Keymax])"
   ]
  },
  {
   "cell_type": "markdown",
   "metadata": {},
   "source": [
    "1. Find the number of job openings are present if applicant have Bachelor degree?\n",
    "2. Print the count as Integer value\n",
    "3. Note : Here we will use the BASIC QUALIFICATIONS feature to find out whether bachelor degree for Job is required or not. Keywords that can  be used are 'Bachelor', 'BS' and 'BA'."
   ]
  },
  {
   "cell_type": "code",
   "execution_count": 484,
   "metadata": {},
   "outputs": [
    {
     "name": "stdout",
     "output_type": "stream",
     "text": [
      "2961\n"
     ]
    }
   ],
   "source": [
    "import csv\n",
    "with open('amazon_jobs_dataset.csv',encoding='utf-8') as file_obj:\n",
    "    file_data = csv.DictReader(file_obj,skipinitialspace=True)\n",
    "    count=0\n",
    "    for row in file_data:\n",
    "        if 'Bachelor' in row['BASIC QUALIFICATIONS'] or 'BS' in row['BASIC QUALIFICATIONS'] or 'BA' in row['BASIC QUALIFICATIONS'] or \"Bachelor's\" in row['BASIC QUALIFICATIONS']:  \n",
    "            count+=1\n",
    "    print(count)"
   ]
  },
  {
   "cell_type": "markdown",
   "metadata": {},
   "source": [
    "1. Among Java, C++ and Python, which of the language has more job openings in India for Bachelor Degree Holder?\n",
    "2. Print the Language(i.e Java,C++,Python) and number of job opening as integer value."
   ]
  },
  {
   "cell_type": "code",
   "execution_count": 485,
   "metadata": {},
   "outputs": [
    {
     "name": "stdout",
     "output_type": "stream",
     "text": [
      "Java 103\n"
     ]
    }
   ],
   "source": [
    "import csv\n",
    "with open('amazon_jobs_dataset.csv',encoding='utf-8') as file_obj:\n",
    "    file_data = csv.DictReader(file_obj,skipinitialspace=True)\n",
    "    file_list=list(file_data)\n",
    "\n",
    "d={'Java':0,'C++':0,'Python':0}\n",
    "for row in file_list :\n",
    "    country = row['location'].split(',')[0]\n",
    "    key = row['BASIC QUALIFICATIONS']\n",
    "    if 'IN' == country:\n",
    "        if ('Bachelor' in key or 'BA' in key or 'BS' in key) and 'Java' in key:\n",
    "            d['Java']+=1\n",
    "        if ('Bachelor' in key or 'BA' in key or 'BS' in key) and 'C++' in key:\n",
    "            d['C++']+=1\n",
    "        \n",
    "        if ('Bachelor' in key or 'BA' in key or 'BS' in key) and 'Python' in key:\n",
    "            d['Python']+=1\n",
    "    \n",
    "    \n",
    "value=0\n",
    "ans_key=None\n",
    "for key,val in d.items():\n",
    "    if val>value:\n",
    "        value=val\n",
    "        ans_key=key\n",
    "print(ans_key,value)"
   ]
  },
  {
   "cell_type": "markdown",
   "metadata": {},
   "source": [
    "1. Find the country does Amazon need the most number of Java Developer?\n",
    "2. Print the Country(Country Shortcut as given in Dataset) and number of job opening as integer value"
   ]
  },
  {
   "cell_type": "code",
   "execution_count": 487,
   "metadata": {},
   "outputs": [
    {
     "name": "stdout",
     "output_type": "stream",
     "text": [
      "US   2009\n"
     ]
    }
   ],
   "source": [
    "import csv\n",
    "with open('amazon_jobs_dataset.csv',encoding='utf-8') as file_obj:\n",
    "    file_data = csv.DictReader(file_obj,skipinitialspace=True)\n",
    "    country={}\n",
    "    for row in file_data:\n",
    "        if 'Java' in row['BASIC QUALIFICATIONS'] : \n",
    "            v=row['location'].split(',')\n",
    "            if v[0] in country:\n",
    "                country[v[0]]+=1\n",
    "            else:\n",
    "                country[v[0]]=1\n",
    "    Keymax = max(zip(country.values(), country.keys()))[1]  # Finding the key corresponding to max value\n",
    "    print(Keymax,\" \",country[Keymax])"
   ]
  }
 ],
 "metadata": {
  "kernelspec": {
   "display_name": "Python 3.9.13 64-bit",
   "language": "python",
   "name": "python3"
  },
  "language_info": {
   "codemirror_mode": {
    "name": "ipython",
    "version": 3
   },
   "file_extension": ".py",
   "mimetype": "text/x-python",
   "name": "python",
   "nbconvert_exporter": "python",
   "pygments_lexer": "ipython3",
   "version": "3.9.13"
  },
  "orig_nbformat": 4,
  "vscode": {
   "interpreter": {
    "hash": "b9f7f17e2dfc0342ad8fd0225d136ef60900e874e384a8df6732177035c72636"
   }
  }
 },
 "nbformat": 4,
 "nbformat_minor": 2
}
